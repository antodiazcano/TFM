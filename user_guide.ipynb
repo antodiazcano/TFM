{
  "nbformat": 4,
  "nbformat_minor": 0,
  "metadata": {
    "colab": {
      "provenance": []
    },
    "kernelspec": {
      "name": "python3",
      "display_name": "Python 3"
    },
    "language_info": {
      "name": "python"
    }
  },
  "cells": [
    {
      "cell_type": "markdown",
      "source": [
        "# Imports"
      ],
      "metadata": {
        "id": "8NmiTMiqpuBn"
      }
    },
    {
      "cell_type": "code",
      "source": [
        "from utils import preprocess, view_pred\n",
        "from lstm import LSTM_extended\n",
        "from lstm_hidden import LSTM_hidden_extended\n",
        "from google.colab import drive\n",
        "import ast\n",
        "import joblib\n",
        "from matplotlib.colors import LinearSegmentedColormap\n",
        "from matplotlib.patches import Patch"
      ],
      "metadata": {
        "id": "DoC1jkJWoyWD"
      },
      "execution_count": null,
      "outputs": []
    },
    {
      "cell_type": "code",
      "source": [
        "drive.mount('/content/drive')"
      ],
      "metadata": {
        "id": "OLqUhzICQAW6",
        "colab": {
          "base_uri": "https://localhost:8080/"
        },
        "outputId": "39d7d1f2-6b32-413f-c15c-20a0288623b1"
      },
      "execution_count": null,
      "outputs": [
        {
          "output_type": "stream",
          "name": "stdout",
          "text": [
            "Drive already mounted at /content/drive; to attempt to forcibly remount, call drive.mount(\"/content/drive\", force_remount=True).\n"
          ]
        }
      ]
    },
    {
      "cell_type": "markdown",
      "source": [
        "# Carga de los datos"
      ],
      "metadata": {
        "id": "f5_mtdZTP8vT"
      }
    },
    {
      "cell_type": "code",
      "source": [
        "path_to_file = '/content/drive/MyDrive/TFM/Data/df.csv'\n",
        "\n",
        "df = pd.read_csv(path_to_file)\n",
        "\n",
        "df['date'] = pd.to_datetime(df['date'], dayfirst=True)\n",
        "df['supply'] = df['supply_60'].apply(lambda x: ast.literal_eval(x))\n",
        "df['price'] = df['price_60'].apply(lambda x: ast.literal_eval(x))\n",
        "df['weekday'] = df['date'].apply(lambda x: x.weekday())\n",
        "df['month'] = df['date'].apply(lambda x: x.month)"
      ],
      "metadata": {
        "id": "7y0rL4DBP9sJ"
      },
      "execution_count": null,
      "outputs": []
    },
    {
      "cell_type": "code",
      "source": [
        "hour = 18\n",
        "num_points = 60\n",
        "hours_before = 24\n",
        "valid = True"
      ],
      "metadata": {
        "id": "UOrWXsmgQtkV"
      },
      "execution_count": null,
      "outputs": []
    },
    {
      "cell_type": "code",
      "source": [
        "out = preprocess(df, hour, hours_before, valid)\n",
        "X_train, Y_train, X_valid, Y_valid, X_test, Y_test, Y_prev = out[0], out[1], out[2], out[3], out[4], out[5], out[6]"
      ],
      "metadata": {
        "id": "P8aznKswprTt"
      },
      "execution_count": null,
      "outputs": []
    },
    {
      "cell_type": "markdown",
      "source": [
        "# Ejemplo de entrenamiento"
      ],
      "metadata": {
        "id": "k7GLbBWn_EUn"
      }
    },
    {
      "cell_type": "markdown",
      "source": [
        "## Random Forest"
      ],
      "metadata": {
        "id": "d2Ou7pnO_GJW"
      }
    },
    {
      "cell_type": "code",
      "source": [
        "from sklearn.ensemble import RandomForestRegressor as RFR\n",
        "from sklearn.model_selection import GridSearchCV\n",
        "\n",
        "param_grid = {\n",
        "    'n_estimators': [75, 100, 125],\n",
        "    'max_depth': [8, 10, None],\n",
        "    'max_features': [None, 'sqrt']\n",
        "}\n",
        "\n",
        "my_RF = GridSearchCV(param_grid=param_grid, estimator=RFR(), scoring='neg_mean_squared_error')\n",
        "my_RF.fit(X_train, Y_train)\n",
        "print(my_RF.best_params_)\n",
        "\n",
        "joblib.dump(my_RF, 'my_RF_' + str(hour) + '.joblib')"
      ],
      "metadata": {
        "id": "KmJqvgUk_LOy"
      },
      "execution_count": null,
      "outputs": []
    },
    {
      "cell_type": "markdown",
      "source": [
        "## LSTM"
      ],
      "metadata": {
        "id": "cfOdH0X-_GEk"
      }
    },
    {
      "cell_type": "code",
      "source": [
        "input_size = num_points*hours_before + 3 + 4\n",
        "hidden_size = 2048\n",
        "hidden_1 = 1024\n",
        "hidden_2 = 1024\n",
        "hidden_3 = 512\n",
        "hidden_4 = 256\n",
        "n_labels = num_points\n",
        "p = 0.2\n",
        "patience = 15\n",
        "epochs = 100\n",
        "valid = True\n",
        "\n",
        "my_LSTM = LSTM_extended(input_size, hidden_size, hidden_1, hidden_2, hidden_3, hidden_4, n_labels, p, patience, valid=valid, epochs=epochs)\n",
        "\n",
        "my_LSTM.trainloop(X_train, Y_train, X_valid, Y_valid)"
      ],
      "metadata": {
        "id": "SYW0TNBW_Lwo"
      },
      "execution_count": null,
      "outputs": []
    },
    {
      "cell_type": "markdown",
      "source": [
        "## LSTM hidden"
      ],
      "metadata": {
        "id": "XqcT3ng6_GHA"
      }
    },
    {
      "cell_type": "code",
      "source": [
        "input_size = num_points*hours_before + 3 + 4\n",
        "hidden_size = 2048 // 2\n",
        "hidden_1 = 1024\n",
        "hidden_2 = 1024\n",
        "hidden_3 = 512\n",
        "hidden_4 = 256\n",
        "n_labels = num_points\n",
        "p = 0.2\n",
        "patience = 15\n",
        "epochs = 100\n",
        "valid = True\n",
        "\n",
        "my_LSTM = LSTM_extended(input_size, hidden_size, hidden_1, hidden_2, hidden_3, hidden_4, n_labels, p, patience, valid=valid, epochs=epochs)\n",
        "\n",
        "my_LSTM.trainloop(X_train, Y_train, X_valid, Y_valid)"
      ],
      "metadata": {
        "id": "Oxz6zLjU_MML"
      },
      "execution_count": null,
      "outputs": []
    },
    {
      "cell_type": "markdown",
      "source": [
        "# Ejemplo de predicciones"
      ],
      "metadata": {
        "id": "q6iHA0int1PE"
      }
    },
    {
      "cell_type": "markdown",
      "source": [
        "## Carga Random Forest"
      ],
      "metadata": {
        "id": "24WXHgd6S7lS"
      }
    },
    {
      "cell_type": "code",
      "source": [
        "path = '/content/drive/MyDrive/TFM/Models/Random_Forest/my_RF_' + str(hour) + '.joblib'\n",
        "my_RF = joblib.load(path)"
      ],
      "metadata": {
        "id": "3pOuWcldS9KC"
      },
      "execution_count": null,
      "outputs": []
    },
    {
      "cell_type": "markdown",
      "source": [
        "## Carga LSTM"
      ],
      "metadata": {
        "id": "3nBAMTsxtmLS"
      }
    },
    {
      "cell_type": "code",
      "source": [
        "path = '/content/drive/MyDrive/TFM/Models/LSTM/LSTM_' + str(hour) + '.pt'\n",
        "\n",
        "input_size = num_points*hours_before + 3 + 4\n",
        "hidden_size = 2048\n",
        "hidden_1 = 1024\n",
        "hidden_2 = 1024\n",
        "hidden_3 = 512\n",
        "hidden_4 = 256\n",
        "n_labels = num_points\n",
        "p = 0.2\n",
        "patience = 15\n",
        "\n",
        "my_LSTM = LSTM_extended(input_size, hidden_size, hidden_1, hidden_2, hidden_3, hidden_4, n_labels, p, patience)\n",
        "\n",
        "my_LSTM.load_state_dict(torch.load(path))"
      ],
      "metadata": {
        "id": "V-XWTfuDPy0o",
        "colab": {
          "base_uri": "https://localhost:8080/"
        },
        "outputId": "60b2ae72-e99d-40a3-bfc1-f3ac62163684"
      },
      "execution_count": null,
      "outputs": [
        {
          "output_type": "execute_result",
          "data": {
            "text/plain": [
              "<All keys matched successfully>"
            ]
          },
          "metadata": {},
          "execution_count": 7
        }
      ]
    },
    {
      "cell_type": "markdown",
      "source": [
        "## Carga LSTM hidden"
      ],
      "metadata": {
        "id": "5CKJudALSPzL"
      }
    },
    {
      "cell_type": "code",
      "source": [
        "path = '/content/drive/MyDrive/TFM/Models/LSTM_hidden/LSTM_hidden_' + str(12) + '.pt'\n",
        "\n",
        "input_size = num_points*hours_before + 3 + 4\n",
        "hidden_size = 2048 // 2\n",
        "hidden_1 = 1024\n",
        "hidden_2 = 1024\n",
        "hidden_3 = 512\n",
        "hidden_4 = 256\n",
        "n_labels = num_points\n",
        "p = 0.2\n",
        "patience = 15\n",
        "\n",
        "my_LSTM_hidden = LSTM_hidden_extended(input_size, hidden_size, hidden_1, hidden_2, hidden_3, hidden_4, n_labels, p, patience)\n",
        "\n",
        "my_LSTM_hidden.load_state_dict(torch.load(path))"
      ],
      "metadata": {
        "id": "TAi7P_YnSdV0",
        "colab": {
          "base_uri": "https://localhost:8080/"
        },
        "outputId": "2b321e00-d012-4660-cf1a-2fe3a52e2ade"
      },
      "execution_count": null,
      "outputs": [
        {
          "output_type": "execute_result",
          "data": {
            "text/plain": [
              "<All keys matched successfully>"
            ]
          },
          "metadata": {},
          "execution_count": 18
        }
      ]
    },
    {
      "cell_type": "markdown",
      "source": [
        "## Predicciones"
      ],
      "metadata": {
        "id": "ilrPHunLTNRj"
      }
    },
    {
      "cell_type": "code",
      "source": [
        "min_x = 16916.4\n",
        "max_x = 122681.6"
      ],
      "metadata": {
        "id": "d2LKMJETvJad"
      },
      "execution_count": null,
      "outputs": []
    },
    {
      "cell_type": "code",
      "source": [
        "Y_pred_RF = my_RF.predict(X_test)*(max_x-min_x) + min_x\n",
        "Y_pred_LSTM = my_LSTM.predict(X_test)\n",
        "Y_pred_LSTM_hidden = my_LSTM_hidden.predict(X_test)\n",
        "Y_test = np.array(Y_test)*(max_x-min_x) + min_x"
      ],
      "metadata": {
        "id": "ZLgrOKq3TOBv"
      },
      "execution_count": null,
      "outputs": []
    },
    {
      "cell_type": "code",
      "source": [
        "# Mapa degradado de colores\n",
        "\n",
        "colors = [(5/255, 28/255, 44/255), (14/255, 169/255, 240/255), (195/255, 195/255, 195/255)]\n",
        "cmap = LinearSegmentedColormap.from_list('Degradado', colors, N=5)\n",
        "cmap"
      ],
      "metadata": {
        "id": "rZ-3SMxxX3U6",
        "colab": {
          "base_uri": "https://localhost:8080/",
          "height": 121
        },
        "outputId": "245937f6-af3a-45c4-a6f1-d936ce02c492"
      },
      "execution_count": null,
      "outputs": [
        {
          "output_type": "execute_result",
          "data": {
            "text/plain": [
              "<matplotlib.colors.LinearSegmentedColormap at 0x7f633b1995d0>"
            ],
            "text/html": [
              "<div style=\"vertical-align: middle;\"><strong>Degradado</strong> </div><div class=\"cmap\"><img alt=\"Degradado colormap\" title=\"Degradado\" style=\"border: 1px solid #555;\" src=\"data:image/png;base64,iVBORw0KGgoAAAANSUhEUgAAAgAAAABACAYAAABsv8+/AAAAGHRFWHRUaXRsZQBEZWdyYWRhZG8gY29sb3JtYXArRiWtAAAAHnRFWHREZXNjcmlwdGlvbgBEZWdyYWRhZG8gY29sb3JtYXBp3cMmAAAAMHRFWHRBdXRob3IATWF0cGxvdGxpYiB2My43LjEsIGh0dHBzOi8vbWF0cGxvdGxpYi5vcmcqr/hNAAAAMnRFWHRTb2Z0d2FyZQBNYXRwbG90bGliIHYzLjcuMSwgaHR0cHM6Ly9tYXRwbG90bGliLm9yZwQJZ2oAAAFNSURBVHic7dZBDcJQAERBIPRGUICE6gAPcMM9NUENlCu/yZtRsMle3nG6zd8Du3S+v0dPYMP08MsePS+f0RPY8Louoyfww2n0AADg/wQAAAQJAAAIEgAAECQAACBIAABAkAAAgCABAABBAgAAggQAAAQJAAAIEgAAECQAACBIAABAkAAAgCABAABBAgAAggQAAAQJAAAIEgAAECQAACBIAABAkAAAgCABAABBAgAAggQAAAQJAAAIEgAAECQAACBIAABAkAAAgCABAABBAgAAggQAAAQJAAAIEgAAECQAACBIAABAkAAAgCABAABBAgAAggQAAAQJAAAIEgAAECQAACBIAABAkAAAgCABAABBAgAAggQAAAQJAAAIEgAAECQAACBIAABAkAAAgCABAABBAgAAggQAAAQJAAAIEgAAECQAACBIAABAkAAAgKAV+TkFyELwyNYAAAAASUVORK5CYII=\"></div><div style=\"vertical-align: middle; max-width: 514px; display: flex; justify-content: space-between;\"><div style=\"float: left;\"><div title=\"#051c2cff\" style=\"display: inline-block; width: 1em; height: 1em; margin: 0; vertical-align: middle; border: 1px solid #555; background-color: #051c2cff;\"></div> under</div><div style=\"margin: 0 auto; display: inline-block;\">bad <div title=\"#00000000\" style=\"display: inline-block; width: 1em; height: 1em; margin: 0; vertical-align: middle; border: 1px solid #555; background-color: #00000000;\"></div></div><div style=\"float: right;\">over <div title=\"#c3c3c3ff\" style=\"display: inline-block; width: 1em; height: 1em; margin: 0; vertical-align: middle; border: 1px solid #555; background-color: #c3c3c3ff;\"></div></div>"
            ],
            "image/png": "[encoded data removed]"
          },
          "metadata": {},
          "execution_count": 10
        }
      ]
    },
    {
      "cell_type": "code",
      "source": [
        "view_pred(\n",
        "    df['price'].loc[0] + [225],\n",
        "    Y_test,\n",
        "    Y_prev,\n",
        "    Y_pred_RF,\n",
        "    Y_pred_LSTM,\n",
        "    Y_pred_LSTM_hidden,\n",
        "    cmap\n",
        ")"
      ],
      "metadata": {
        "id": "Hd8MqsxWVvWe",
        "colab": {
          "base_uri": "https://localhost:8080/",
          "height": 564
        },
        "outputId": "dbc3c62f-9fae-4d97-a421-f654dd1a958b"
      },
      "execution_count": null,
      "outputs": [
        {
          "output_type": "display_data",
          "data": {
            "text/plain": [
              "<Figure size 1000x600 with 1 Axes>"
            ],
            "image/png": "[encoded data removed]"
          },
          "metadata": {}
        }
      ]
    },
    {
      "cell_type": "code",
      "source": [],
      "metadata": {
        "id": "RiBSqocZVwEi"
      },
      "execution_count": null,
      "outputs": []
    }
  ]
}