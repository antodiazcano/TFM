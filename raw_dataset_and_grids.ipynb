{
  "nbformat": 4,
  "nbformat_minor": 0,
  "metadata": {
    "colab": {
      "provenance": []
    },
    "kernelspec": {
      "name": "python3",
      "display_name": "Python 3"
    },
    "language_info": {
      "name": "python"
    }
  },
  "cells": [
    {
      "cell_type": "markdown",
      "source": [
        "# Imports"
      ],
      "metadata": {
        "id": "MR0Hdpk59DMD"
      }
    },
    {
      "cell_type": "code",
      "source": [
        "! pip install pyreadr"
      ],
      "metadata": {
        "colab": {
          "base_uri": "https://localhost:8080/"
        },
        "id": "KSNgS34SpGNO",
        "outputId": "6fdece77-d84f-4615-cb11-a0d79182f2c0"
      },
      "execution_count": 1,
      "outputs": [
        {
          "output_type": "stream",
          "name": "stdout",
          "text": [
            "Looking in indexes: https://pypi.org/simple, https://us-python.pkg.dev/colab-wheels/public/simple/\n",
            "Collecting pyreadr\n",
            "  Downloading pyreadr-0.4.7-cp310-cp310-manylinux_2_17_x86_64.manylinux2014_x86_64.whl (362 kB)\n",
            "\u001b[2K     \u001b[90m━━━━━━━━━━━━━━━━━━━━━━━━━━━━━━━━━━━━━━\u001b[0m \u001b[32m363.0/363.0 kB\u001b[0m \u001b[31m10.7 MB/s\u001b[0m eta \u001b[36m0:00:00\u001b[0m\n",
            "\u001b[?25hRequirement already satisfied: pandas>=1.2.0 in /usr/local/lib/python3.10/dist-packages (from pyreadr) (1.5.3)\n",
            "Requirement already satisfied: python-dateutil>=2.8.1 in /usr/local/lib/python3.10/dist-packages (from pandas>=1.2.0->pyreadr) (2.8.2)\n",
            "Requirement already satisfied: pytz>=2020.1 in /usr/local/lib/python3.10/dist-packages (from pandas>=1.2.0->pyreadr) (2022.7.1)\n",
            "Requirement already satisfied: numpy>=1.21.0 in /usr/local/lib/python3.10/dist-packages (from pandas>=1.2.0->pyreadr) (1.22.4)\n",
            "Requirement already satisfied: six>=1.5 in /usr/local/lib/python3.10/dist-packages (from python-dateutil>=2.8.1->pandas>=1.2.0->pyreadr) (1.16.0)\n",
            "Installing collected packages: pyreadr\n",
            "Successfully installed pyreadr-0.4.7\n"
          ]
        }
      ]
    },
    {
      "cell_type": "code",
      "source": [
        "import pandas as pd\n",
        "import numpy as np\n",
        "import matplotlib.pyplot as plt\n",
        "import pyreadr\n",
        "from google.colab import drive\n",
        "from typing import List"
      ],
      "metadata": {
        "id": "qh6GH8DEpxwP"
      },
      "execution_count": 10,
      "outputs": []
    },
    {
      "cell_type": "code",
      "source": [
        "drive.mount('/content/drive')"
      ],
      "metadata": {
        "id": "JiFK4SgwrLcY",
        "colab": {
          "base_uri": "https://localhost:8080/"
        },
        "outputId": "2ac2f570-4e05-4e15-8b11-f607ee4fe04b"
      },
      "execution_count": 3,
      "outputs": [
        {
          "output_type": "stream",
          "name": "stdout",
          "text": [
            "Mounted at /content/drive\n"
          ]
        }
      ]
    },
    {
      "cell_type": "markdown",
      "source": [
        "# Lectura de los datos"
      ],
      "metadata": {
        "id": "Qjuu-NTI9Gtm"
      }
    },
    {
      "cell_type": "code",
      "source": [
        "df = pyreadr.read_r('/content/drive/MyDrive/TFM/Data/day_ahead2016_2020.RData')"
      ],
      "metadata": {
        "id": "TfoaIbI9pPyr"
      },
      "execution_count": 4,
      "outputs": []
    },
    {
      "cell_type": "code",
      "source": [
        "df['day_ahead_supply_prices']['price'] = df['day_ahead_supply_prices'].apply(lambda row: row.iloc[2:].tolist(), axis=1)\n",
        "df['day_ahead_supply_cumsum']['supply'] = df['day_ahead_supply_cumsum'].apply(lambda row: row.iloc[2:].tolist(), axis=1)"
      ],
      "metadata": {
        "id": "nthqc98QqKzd"
      },
      "execution_count": 5,
      "outputs": []
    },
    {
      "cell_type": "code",
      "source": [
        "df['day_ahead_supply_prices'].head(2)"
      ],
      "metadata": {
        "colab": {
          "base_uri": "https://localhost:8080/",
          "height": 185
        },
        "id": "8FpPTXgsUndQ",
        "outputId": "f0bd0a7c-b685-4e00-c0fb-5c617f59c88a"
      },
      "execution_count": 6,
      "outputs": [
        {
          "output_type": "execute_result",
          "data": {
            "text/plain": [
              "   hour        date   x1   x2    x3   x4    x5   x6   x7   x8  ...  x690  \\\n",
              "0     1  01/01/2016  0.0  0.1  0.13  0.5  0.57  0.6  1.0  1.1  ...   NaN   \n",
              "1     2  01/01/2016  0.0  0.1  0.13  0.5  0.57  0.6  1.0  1.1  ...   NaN   \n",
              "\n",
              "   x691  x692  x693  x694  x695  x696  x697  x698  \\\n",
              "0   NaN   NaN   NaN   NaN   NaN   NaN   NaN   NaN   \n",
              "1   NaN   NaN   NaN   NaN   NaN   NaN   NaN   NaN   \n",
              "\n",
              "                                               price  \n",
              "0  [0.0, 0.1, 0.13, 0.5, 0.57, 0.6, 1.0, 1.1, 1.3...  \n",
              "1  [0.0, 0.1, 0.13, 0.5, 0.57, 0.6, 1.0, 1.1, 1.1...  \n",
              "\n",
              "[2 rows x 701 columns]"
            ],
            "text/html": [
              "\n",
              "  <div id=\"df-f41d8897-b1ad-49b6-919d-fc33d7b53384\">\n",
              "    <div class=\"colab-df-container\">\n",
              "      <div>\n",
              "<style scoped>\n",
              "    .dataframe tbody tr th:only-of-type {\n",
              "        vertical-align: middle;\n",
              "    }\n",
              "\n",
              "    .dataframe tbody tr th {\n",
              "        vertical-align: top;\n",
              "    }\n",
              "\n",
              "    .dataframe thead th {\n",
              "        text-align: right;\n",
              "    }\n",
              "</style>\n",
              "<table border=\"1\" class=\"dataframe\">\n",
              "  <thead>\n",
              "    <tr style=\"text-align: right;\">\n",
              "      <th></th>\n",
              "      <th>hour</th>\n",
              "      <th>date</th>\n",
              "      <th>x1</th>\n",
              "      <th>x2</th>\n",
              "      <th>x3</th>\n",
              "      <th>x4</th>\n",
              "      <th>x5</th>\n",
              "      <th>x6</th>\n",
              "      <th>x7</th>\n",
              "      <th>x8</th>\n",
              "      <th>...</th>\n",
              "      <th>x690</th>\n",
              "      <th>x691</th>\n",
              "      <th>x692</th>\n",
              "      <th>x693</th>\n",
              "      <th>x694</th>\n",
              "      <th>x695</th>\n",
              "      <th>x696</th>\n",
              "      <th>x697</th>\n",
              "      <th>x698</th>\n",
              "      <th>price</th>\n",
              "    </tr>\n",
              "  </thead>\n",
              "  <tbody>\n",
              "    <tr>\n",
              "      <th>0</th>\n",
              "      <td>1</td>\n",
              "      <td>01/01/2016</td>\n",
              "      <td>0.0</td>\n",
              "      <td>0.1</td>\n",
              "      <td>0.13</td>\n",
              "      <td>0.5</td>\n",
              "      <td>0.57</td>\n",
              "      <td>0.6</td>\n",
              "      <td>1.0</td>\n",
              "      <td>1.1</td>\n",
              "      <td>...</td>\n",
              "      <td>NaN</td>\n",
              "      <td>NaN</td>\n",
              "      <td>NaN</td>\n",
              "      <td>NaN</td>\n",
              "      <td>NaN</td>\n",
              "      <td>NaN</td>\n",
              "      <td>NaN</td>\n",
              "      <td>NaN</td>\n",
              "      <td>NaN</td>\n",
              "      <td>[0.0, 0.1, 0.13, 0.5, 0.57, 0.6, 1.0, 1.1, 1.3...</td>\n",
              "    </tr>\n",
              "    <tr>\n",
              "      <th>1</th>\n",
              "      <td>2</td>\n",
              "      <td>01/01/2016</td>\n",
              "      <td>0.0</td>\n",
              "      <td>0.1</td>\n",
              "      <td>0.13</td>\n",
              "      <td>0.5</td>\n",
              "      <td>0.57</td>\n",
              "      <td>0.6</td>\n",
              "      <td>1.0</td>\n",
              "      <td>1.1</td>\n",
              "      <td>...</td>\n",
              "      <td>NaN</td>\n",
              "      <td>NaN</td>\n",
              "      <td>NaN</td>\n",
              "      <td>NaN</td>\n",
              "      <td>NaN</td>\n",
              "      <td>NaN</td>\n",
              "      <td>NaN</td>\n",
              "      <td>NaN</td>\n",
              "      <td>NaN</td>\n",
              "      <td>[0.0, 0.1, 0.13, 0.5, 0.57, 0.6, 1.0, 1.1, 1.1...</td>\n",
              "    </tr>\n",
              "  </tbody>\n",
              "</table>\n",
              "<p>2 rows × 701 columns</p>\n",
              "</div>\n",
              "      <button class=\"colab-df-convert\" onclick=\"convertToInteractive('df-f41d8897-b1ad-49b6-919d-fc33d7b53384')\"\n",
              "              title=\"Convert this dataframe to an interactive table.\"\n",
              "              style=\"display:none;\">\n",
              "        \n",
              "  <svg xmlns=\"http://www.w3.org/2000/svg\" height=\"24px\"viewBox=\"0 0 24 24\"\n",
              "       width=\"24px\">\n",
              "    <path d=\"M0 0h24v24H0V0z\" fill=\"none\"/>\n",
              "    <path d=\"M18.56 5.44l.94 2.06.94-2.06 2.06-.94-2.06-.94-.94-2.06-.94 2.06-2.06.94zm-11 1L8.5 8.5l.94-2.06 2.06-.94-2.06-.94L8.5 2.5l-.94 2.06-2.06.94zm10 10l.94 2.06.94-2.06 2.06-.94-2.06-.94-.94-2.06-.94 2.06-2.06.94z\"/><path d=\"M17.41 7.96l-1.37-1.37c-.4-.4-.92-.59-1.43-.59-.52 0-1.04.2-1.43.59L10.3 9.45l-7.72 7.72c-.78.78-.78 2.05 0 2.83L4 21.41c.39.39.9.59 1.41.59.51 0 1.02-.2 1.41-.59l7.78-7.78 2.81-2.81c.8-.78.8-2.07 0-2.86zM5.41 20L4 18.59l7.72-7.72 1.47 1.35L5.41 20z\"/>\n",
              "  </svg>\n",
              "      </button>\n",
              "      \n",
              "  <style>\n",
              "    .colab-df-container {\n",
              "      display:flex;\n",
              "      flex-wrap:wrap;\n",
              "      gap: 12px;\n",
              "    }\n",
              "\n",
              "    .colab-df-convert {\n",
              "      background-color: #E8F0FE;\n",
              "      border: none;\n",
              "      border-radius: 50%;\n",
              "      cursor: pointer;\n",
              "      display: none;\n",
              "      fill: #1967D2;\n",
              "      height: 32px;\n",
              "      padding: 0 0 0 0;\n",
              "      width: 32px;\n",
              "    }\n",
              "\n",
              "    .colab-df-convert:hover {\n",
              "      background-color: #E2EBFA;\n",
              "      box-shadow: 0px 1px 2px rgba(60, 64, 67, 0.3), 0px 1px 3px 1px rgba(60, 64, 67, 0.15);\n",
              "      fill: #174EA6;\n",
              "    }\n",
              "\n",
              "    [theme=dark] .colab-df-convert {\n",
              "      background-color: #3B4455;\n",
              "      fill: #D2E3FC;\n",
              "    }\n",
              "\n",
              "    [theme=dark] .colab-df-convert:hover {\n",
              "      background-color: #434B5C;\n",
              "      box-shadow: 0px 1px 3px 1px rgba(0, 0, 0, 0.15);\n",
              "      filter: drop-shadow(0px 1px 2px rgba(0, 0, 0, 0.3));\n",
              "      fill: #FFFFFF;\n",
              "    }\n",
              "  </style>\n",
              "\n",
              "      <script>\n",
              "        const buttonEl =\n",
              "          document.querySelector('#df-f41d8897-b1ad-49b6-919d-fc33d7b53384 button.colab-df-convert');\n",
              "        buttonEl.style.display =\n",
              "          google.colab.kernel.accessAllowed ? 'block' : 'none';\n",
              "\n",
              "        async function convertToInteractive(key) {\n",
              "          const element = document.querySelector('#df-f41d8897-b1ad-49b6-919d-fc33d7b53384');\n",
              "          const dataTable =\n",
              "            await google.colab.kernel.invokeFunction('convertToInteractive',\n",
              "                                                     [key], {});\n",
              "          if (!dataTable) return;\n",
              "\n",
              "          const docLinkHtml = 'Like what you see? Visit the ' +\n",
              "            '<a target=\"_blank\" href=https://colab.research.google.com/notebooks/data_table.ipynb>data table notebook</a>'\n",
              "            + ' to learn more about interactive tables.';\n",
              "          element.innerHTML = '';\n",
              "          dataTable['output_type'] = 'display_data';\n",
              "          await google.colab.output.renderOutput(dataTable, element);\n",
              "          const docLink = document.createElement('div');\n",
              "          docLink.innerHTML = docLinkHtml;\n",
              "          element.appendChild(docLink);\n",
              "        }\n",
              "      </script>\n",
              "    </div>\n",
              "  </div>\n",
              "  "
            ]
          },
          "metadata": {},
          "execution_count": 6
        }
      ]
    },
    {
      "cell_type": "markdown",
      "source": [
        "## Juntar todo en un solo dataframe"
      ],
      "metadata": {
        "id": "zO1g7-OWP3c3"
      }
    },
    {
      "cell_type": "code",
      "source": [
        "dates = list(df['day_ahead_supply_prices']['date'].values)\n",
        "hours = list(df['day_ahead_supply_prices']['hour'].values)\n",
        "prices = list(df['day_ahead_supply_prices']['price'].values)\n",
        "supplies = list(df['day_ahead_supply_cumsum']['supply'].values)\n",
        "\n",
        "# Quitamos los nan\n",
        "prices_copy = []\n",
        "supplies_copy = []\n",
        "for price, supply in zip(prices, supplies):\n",
        "    prices_copy.append([p for p in price if p > -10**-6])\n",
        "    supplies_copy.append([s for s in supply if s > -10**-6])\n",
        "\n",
        "df = pd.DataFrame({'date': dates, 'hour': hours, 'price': prices_copy, 'supply': supplies_copy})"
      ],
      "metadata": {
        "id": "jPyptQbiKe4V"
      },
      "execution_count": 7,
      "outputs": []
    },
    {
      "cell_type": "code",
      "source": [
        "df['date'] = pd.to_datetime(df['date'], dayfirst=True)\n",
        "df['year'] = df['date'].apply(lambda x: x.year)\n",
        "df = df[df['year'] < 2020]\n",
        "df = df[['date', 'hour', 'price', 'supply']]"
      ],
      "metadata": {
        "id": "UhFpCVjt017D"
      },
      "execution_count": 8,
      "outputs": []
    },
    {
      "cell_type": "code",
      "source": [
        "df.head(2)"
      ],
      "metadata": {
        "colab": {
          "base_uri": "https://localhost:8080/",
          "height": 112
        },
        "id": "5KD49R_-IhHH",
        "outputId": "c95b74e1-9038-40e4-b087-908805cf6133"
      },
      "execution_count": 9,
      "outputs": [
        {
          "output_type": "execute_result",
          "data": {
            "text/plain": [
              "        date  hour                                              price  \\\n",
              "0 2016-01-01     1  [0.0, 0.1, 0.13, 0.5, 0.57, 0.6, 1.0, 1.1, 1.3...   \n",
              "1 2016-01-01     2  [0.0, 0.1, 0.13, 0.5, 0.57, 0.6, 1.0, 1.1, 1.1...   \n",
              "\n",
              "                                              supply  \n",
              "0  [24390.2, 24750.2, 25290.2, 25533.8, 25537.600...  \n",
              "1  [24209.4, 24569.4, 24749.4, 24971.800000000003...  "
            ],
            "text/html": [
              "\n",
              "  <div id=\"df-d27e8a70-4629-41d4-8464-2de24cec07f9\">\n",
              "    <div class=\"colab-df-container\">\n",
              "      <div>\n",
              "<style scoped>\n",
              "    .dataframe tbody tr th:only-of-type {\n",
              "        vertical-align: middle;\n",
              "    }\n",
              "\n",
              "    .dataframe tbody tr th {\n",
              "        vertical-align: top;\n",
              "    }\n",
              "\n",
              "    .dataframe thead th {\n",
              "        text-align: right;\n",
              "    }\n",
              "</style>\n",
              "<table border=\"1\" class=\"dataframe\">\n",
              "  <thead>\n",
              "    <tr style=\"text-align: right;\">\n",
              "      <th></th>\n",
              "      <th>date</th>\n",
              "      <th>hour</th>\n",
              "      <th>price</th>\n",
              "      <th>supply</th>\n",
              "    </tr>\n",
              "  </thead>\n",
              "  <tbody>\n",
              "    <tr>\n",
              "      <th>0</th>\n",
              "      <td>2016-01-01</td>\n",
              "      <td>1</td>\n",
              "      <td>[0.0, 0.1, 0.13, 0.5, 0.57, 0.6, 1.0, 1.1, 1.3...</td>\n",
              "      <td>[24390.2, 24750.2, 25290.2, 25533.8, 25537.600...</td>\n",
              "    </tr>\n",
              "    <tr>\n",
              "      <th>1</th>\n",
              "      <td>2016-01-01</td>\n",
              "      <td>2</td>\n",
              "      <td>[0.0, 0.1, 0.13, 0.5, 0.57, 0.6, 1.0, 1.1, 1.1...</td>\n",
              "      <td>[24209.4, 24569.4, 24749.4, 24971.800000000003...</td>\n",
              "    </tr>\n",
              "  </tbody>\n",
              "</table>\n",
              "</div>\n",
              "      <button class=\"colab-df-convert\" onclick=\"convertToInteractive('df-d27e8a70-4629-41d4-8464-2de24cec07f9')\"\n",
              "              title=\"Convert this dataframe to an interactive table.\"\n",
              "              style=\"display:none;\">\n",
              "        \n",
              "  <svg xmlns=\"http://www.w3.org/2000/svg\" height=\"24px\"viewBox=\"0 0 24 24\"\n",
              "       width=\"24px\">\n",
              "    <path d=\"M0 0h24v24H0V0z\" fill=\"none\"/>\n",
              "    <path d=\"M18.56 5.44l.94 2.06.94-2.06 2.06-.94-2.06-.94-.94-2.06-.94 2.06-2.06.94zm-11 1L8.5 8.5l.94-2.06 2.06-.94-2.06-.94L8.5 2.5l-.94 2.06-2.06.94zm10 10l.94 2.06.94-2.06 2.06-.94-2.06-.94-.94-2.06-.94 2.06-2.06.94z\"/><path d=\"M17.41 7.96l-1.37-1.37c-.4-.4-.92-.59-1.43-.59-.52 0-1.04.2-1.43.59L10.3 9.45l-7.72 7.72c-.78.78-.78 2.05 0 2.83L4 21.41c.39.39.9.59 1.41.59.51 0 1.02-.2 1.41-.59l7.78-7.78 2.81-2.81c.8-.78.8-2.07 0-2.86zM5.41 20L4 18.59l7.72-7.72 1.47 1.35L5.41 20z\"/>\n",
              "  </svg>\n",
              "      </button>\n",
              "      \n",
              "  <style>\n",
              "    .colab-df-container {\n",
              "      display:flex;\n",
              "      flex-wrap:wrap;\n",
              "      gap: 12px;\n",
              "    }\n",
              "\n",
              "    .colab-df-convert {\n",
              "      background-color: #E8F0FE;\n",
              "      border: none;\n",
              "      border-radius: 50%;\n",
              "      cursor: pointer;\n",
              "      display: none;\n",
              "      fill: #1967D2;\n",
              "      height: 32px;\n",
              "      padding: 0 0 0 0;\n",
              "      width: 32px;\n",
              "    }\n",
              "\n",
              "    .colab-df-convert:hover {\n",
              "      background-color: #E2EBFA;\n",
              "      box-shadow: 0px 1px 2px rgba(60, 64, 67, 0.3), 0px 1px 3px 1px rgba(60, 64, 67, 0.15);\n",
              "      fill: #174EA6;\n",
              "    }\n",
              "\n",
              "    [theme=dark] .colab-df-convert {\n",
              "      background-color: #3B4455;\n",
              "      fill: #D2E3FC;\n",
              "    }\n",
              "\n",
              "    [theme=dark] .colab-df-convert:hover {\n",
              "      background-color: #434B5C;\n",
              "      box-shadow: 0px 1px 3px 1px rgba(0, 0, 0, 0.15);\n",
              "      filter: drop-shadow(0px 1px 2px rgba(0, 0, 0, 0.3));\n",
              "      fill: #FFFFFF;\n",
              "    }\n",
              "  </style>\n",
              "\n",
              "      <script>\n",
              "        const buttonEl =\n",
              "          document.querySelector('#df-d27e8a70-4629-41d4-8464-2de24cec07f9 button.colab-df-convert');\n",
              "        buttonEl.style.display =\n",
              "          google.colab.kernel.accessAllowed ? 'block' : 'none';\n",
              "\n",
              "        async function convertToInteractive(key) {\n",
              "          const element = document.querySelector('#df-d27e8a70-4629-41d4-8464-2de24cec07f9');\n",
              "          const dataTable =\n",
              "            await google.colab.kernel.invokeFunction('convertToInteractive',\n",
              "                                                     [key], {});\n",
              "          if (!dataTable) return;\n",
              "\n",
              "          const docLinkHtml = 'Like what you see? Visit the ' +\n",
              "            '<a target=\"_blank\" href=https://colab.research.google.com/notebooks/data_table.ipynb>data table notebook</a>'\n",
              "            + ' to learn more about interactive tables.';\n",
              "          element.innerHTML = '';\n",
              "          dataTable['output_type'] = 'display_data';\n",
              "          await google.colab.output.renderOutput(dataTable, element);\n",
              "          const docLink = document.createElement('div');\n",
              "          docLink.innerHTML = docLinkHtml;\n",
              "          element.appendChild(docLink);\n",
              "        }\n",
              "      </script>\n",
              "    </div>\n",
              "  </div>\n",
              "  "
            ]
          },
          "metadata": {},
          "execution_count": 9
        }
      ]
    },
    {
      "cell_type": "markdown",
      "source": [
        "# Mallas"
      ],
      "metadata": {
        "id": "fHI7HtazJ7I-"
      }
    },
    {
      "cell_type": "markdown",
      "source": [
        "## Malla equiespaciada"
      ],
      "metadata": {
        "id": "6bWuYKy4QABW"
      }
    },
    {
      "cell_type": "markdown",
      "source": [
        "Para cada día tendremos que predecir la cantidad desde el mínimo precio histórico (0.01) hasta el máximo histórico (180.3). Para ello se hará un grid de 0 a 180 con paso 1 para cada hora de cada día. La cantidad asignada será la más cercana al precio correspondiente."
      ],
      "metadata": {
        "id": "U2pTmhIAQErL"
      }
    },
    {
      "cell_type": "code",
      "source": [
        "def get_new_supply(\n",
        "        price: List[float],\n",
        "        supply: List[float]\n",
        "    ) -> List[float]:\n",
        "\n",
        "    \"\"\"\n",
        "    Funcion para obtener la oferta asociada a la malla equiespaciada para cada fila.\n",
        "\n",
        "    Parameters\n",
        "    ----------\n",
        "    price      : Lista de precios originales.\n",
        "    supply     : Lista de ofertas originales.\n",
        "\n",
        "    Returns\n",
        "    -------\n",
        "    new_supply : Oferta asociada a la malla equiespaciada.\n",
        "    \"\"\"\n",
        "    \n",
        "    # Numeros enteros de 0 a 180\n",
        "    numeros_enteros = np.arange(181)\n",
        "\n",
        "    # Indice del elemento mas cercano en price a cada numero entero\n",
        "    idx = [np.abs(price - n).argmin() for n in numeros_enteros]\n",
        "\n",
        "    # Lista que los elementos correspondientes\n",
        "    new_supply = [supply[i] for i in idx]\n",
        "\n",
        "    return new_supply"
      ],
      "metadata": {
        "id": "MWYimBEpQbpH"
      },
      "execution_count": 11,
      "outputs": []
    },
    {
      "cell_type": "code",
      "source": [
        "new_supply = []\n",
        "\n",
        "for p, s in zip(df['price'].values, df['supply'].values):\n",
        "    new_s = get_new_supply(p, s)\n",
        "    new_supply.append(new_s)\n",
        "\n",
        "df['price_180'] = [list(range(181)) for _ in range(len(df))]\n",
        "df['supply_180'] = new_supply"
      ],
      "metadata": {
        "id": "rRpYG014RmYU"
      },
      "execution_count": 12,
      "outputs": []
    },
    {
      "cell_type": "markdown",
      "source": [
        "## Malla no equiespaciada"
      ],
      "metadata": {
        "id": "G2Hjh1kF0c2z"
      }
    },
    {
      "cell_type": "code",
      "source": [
        "# Desviacion tipica para cada precio\n",
        "supp = list(df['supply_180'].values)\n",
        "supp_mat = np.matrix([np.array(s) for s in supp])\n",
        "supp_std = list(np.array(supp_mat.std(axis=0))[0])"
      ],
      "metadata": {
        "id": "GHMVTIaIXRv_"
      },
      "execution_count": 13,
      "outputs": []
    },
    {
      "cell_type": "code",
      "source": [
        "def f(x): # funcion de masa\n",
        "    return supp_std[x] / sum(supp_std)"
      ],
      "metadata": {
        "id": "A3TkWazzC2fF"
      },
      "execution_count": 14,
      "outputs": []
    },
    {
      "cell_type": "code",
      "source": [
        "num_points = 60 # numero de puntos de la rejilla\n",
        "\n",
        "cumulative_probs = np.cumsum(np.array([f(i) for i in range(181)])) # valores de la funcion de distribucion\n",
        "\n",
        "quantiles = np.linspace(0, 1, num_points)\n",
        "grid = np.interp(quantiles, cumulative_probs, np.arange(181)) # mallado no equiespaciado\n",
        "\n",
        "# Cogemos los numeros enteros, ya que nos estabamos basando en el mallado equiespaciado\n",
        "grid = [int(node) for node in np.round(grid)]"
      ],
      "metadata": {
        "id": "cw4ggzEFC2rc"
      },
      "execution_count": 15,
      "outputs": []
    },
    {
      "cell_type": "code",
      "source": [
        "new_supply = []\n",
        "\n",
        "for s in df['supply_180'].values:\n",
        "    new_s = [s[node] for node in grid]\n",
        "    new_supply.append(new_s)\n",
        "\n",
        "df['price_' + str(num_points)] = [grid for _ in range(len(df))]\n",
        "df['supply_' + str(num_points)] = new_supply"
      ],
      "metadata": {
        "id": "TgeGIh6gVnnm"
      },
      "execution_count": 16,
      "outputs": []
    },
    {
      "cell_type": "markdown",
      "source": [
        "# Guardado del dataframe"
      ],
      "metadata": {
        "id": "80eShm3U2LmD"
      }
    },
    {
      "cell_type": "code",
      "source": [
        "df.head(2)"
      ],
      "metadata": {
        "colab": {
          "base_uri": "https://localhost:8080/",
          "height": 225
        },
        "id": "XPSpy_V7hWbL",
        "outputId": "78742f43-3eb6-446a-e934-5061939eb94c"
      },
      "execution_count": 22,
      "outputs": [
        {
          "output_type": "execute_result",
          "data": {
            "text/plain": [
              "        date  hour                                              price  \\\n",
              "0 2016-01-01     1  [0.0, 0.1, 0.13, 0.5, 0.57, 0.6, 1.0, 1.1, 1.3...   \n",
              "1 2016-01-01     2  [0.0, 0.1, 0.13, 0.5, 0.57, 0.6, 1.0, 1.1, 1.1...   \n",
              "\n",
              "                                              supply  \\\n",
              "0  [24390.2, 24750.2, 25290.2, 25533.8, 25537.600...   \n",
              "1  [24209.4, 24569.4, 24749.4, 24971.800000000003...   \n",
              "\n",
              "                                           price_180  \\\n",
              "0  [0, 1, 2, 3, 4, 5, 6, 7, 8, 9, 10, 11, 12, 13,...   \n",
              "1  [0, 1, 2, 3, 4, 5, 6, 7, 8, 9, 10, 11, 12, 13,...   \n",
              "\n",
              "                                          supply_180  \\\n",
              "0  [24390.2, 26266.4, 26291.8, 27832.4, 28305.2, ...   \n",
              "1  [24209.4, 25668.800000000003, 25777.0, 27521.0...   \n",
              "\n",
              "                                            price_60  \\\n",
              "0  [0, 4, 8, 12, 16, 20, 23, 27, 31, 34, 37, 41, ...   \n",
              "1  [0, 4, 8, 12, 16, 20, 23, 27, 31, 34, 37, 41, ...   \n",
              "\n",
              "                                           supply_60  \n",
              "0  [24390.2, 28305.2, 30847.0, 31282.8, 31375.2, ...  \n",
              "1  [24209.4, 28047.4, 30280.2, 30712.4, 30790.0, ...  "
            ],
            "text/html": [
              "\n",
              "  <div id=\"df-229424c6-da3c-4ede-9062-aeff4a9eec13\">\n",
              "    <div class=\"colab-df-container\">\n",
              "      <div>\n",
              "<style scoped>\n",
              "    .dataframe tbody tr th:only-of-type {\n",
              "        vertical-align: middle;\n",
              "    }\n",
              "\n",
              "    .dataframe tbody tr th {\n",
              "        vertical-align: top;\n",
              "    }\n",
              "\n",
              "    .dataframe thead th {\n",
              "        text-align: right;\n",
              "    }\n",
              "</style>\n",
              "<table border=\"1\" class=\"dataframe\">\n",
              "  <thead>\n",
              "    <tr style=\"text-align: right;\">\n",
              "      <th></th>\n",
              "      <th>date</th>\n",
              "      <th>hour</th>\n",
              "      <th>price</th>\n",
              "      <th>supply</th>\n",
              "      <th>price_180</th>\n",
              "      <th>supply_180</th>\n",
              "      <th>price_60</th>\n",
              "      <th>supply_60</th>\n",
              "    </tr>\n",
              "  </thead>\n",
              "  <tbody>\n",
              "    <tr>\n",
              "      <th>0</th>\n",
              "      <td>2016-01-01</td>\n",
              "      <td>1</td>\n",
              "      <td>[0.0, 0.1, 0.13, 0.5, 0.57, 0.6, 1.0, 1.1, 1.3...</td>\n",
              "      <td>[24390.2, 24750.2, 25290.2, 25533.8, 25537.600...</td>\n",
              "      <td>[0, 1, 2, 3, 4, 5, 6, 7, 8, 9, 10, 11, 12, 13,...</td>\n",
              "      <td>[24390.2, 26266.4, 26291.8, 27832.4, 28305.2, ...</td>\n",
              "      <td>[0, 4, 8, 12, 16, 20, 23, 27, 31, 34, 37, 41, ...</td>\n",
              "      <td>[24390.2, 28305.2, 30847.0, 31282.8, 31375.2, ...</td>\n",
              "    </tr>\n",
              "    <tr>\n",
              "      <th>1</th>\n",
              "      <td>2016-01-01</td>\n",
              "      <td>2</td>\n",
              "      <td>[0.0, 0.1, 0.13, 0.5, 0.57, 0.6, 1.0, 1.1, 1.1...</td>\n",
              "      <td>[24209.4, 24569.4, 24749.4, 24971.800000000003...</td>\n",
              "      <td>[0, 1, 2, 3, 4, 5, 6, 7, 8, 9, 10, 11, 12, 13,...</td>\n",
              "      <td>[24209.4, 25668.800000000003, 25777.0, 27521.0...</td>\n",
              "      <td>[0, 4, 8, 12, 16, 20, 23, 27, 31, 34, 37, 41, ...</td>\n",
              "      <td>[24209.4, 28047.4, 30280.2, 30712.4, 30790.0, ...</td>\n",
              "    </tr>\n",
              "  </tbody>\n",
              "</table>\n",
              "</div>\n",
              "      <button class=\"colab-df-convert\" onclick=\"convertToInteractive('df-229424c6-da3c-4ede-9062-aeff4a9eec13')\"\n",
              "              title=\"Convert this dataframe to an interactive table.\"\n",
              "              style=\"display:none;\">\n",
              "        \n",
              "  <svg xmlns=\"http://www.w3.org/2000/svg\" height=\"24px\"viewBox=\"0 0 24 24\"\n",
              "       width=\"24px\">\n",
              "    <path d=\"M0 0h24v24H0V0z\" fill=\"none\"/>\n",
              "    <path d=\"M18.56 5.44l.94 2.06.94-2.06 2.06-.94-2.06-.94-.94-2.06-.94 2.06-2.06.94zm-11 1L8.5 8.5l.94-2.06 2.06-.94-2.06-.94L8.5 2.5l-.94 2.06-2.06.94zm10 10l.94 2.06.94-2.06 2.06-.94-2.06-.94-.94-2.06-.94 2.06-2.06.94z\"/><path d=\"M17.41 7.96l-1.37-1.37c-.4-.4-.92-.59-1.43-.59-.52 0-1.04.2-1.43.59L10.3 9.45l-7.72 7.72c-.78.78-.78 2.05 0 2.83L4 21.41c.39.39.9.59 1.41.59.51 0 1.02-.2 1.41-.59l7.78-7.78 2.81-2.81c.8-.78.8-2.07 0-2.86zM5.41 20L4 18.59l7.72-7.72 1.47 1.35L5.41 20z\"/>\n",
              "  </svg>\n",
              "      </button>\n",
              "      \n",
              "  <style>\n",
              "    .colab-df-container {\n",
              "      display:flex;\n",
              "      flex-wrap:wrap;\n",
              "      gap: 12px;\n",
              "    }\n",
              "\n",
              "    .colab-df-convert {\n",
              "      background-color: #E8F0FE;\n",
              "      border: none;\n",
              "      border-radius: 50%;\n",
              "      cursor: pointer;\n",
              "      display: none;\n",
              "      fill: #1967D2;\n",
              "      height: 32px;\n",
              "      padding: 0 0 0 0;\n",
              "      width: 32px;\n",
              "    }\n",
              "\n",
              "    .colab-df-convert:hover {\n",
              "      background-color: #E2EBFA;\n",
              "      box-shadow: 0px 1px 2px rgba(60, 64, 67, 0.3), 0px 1px 3px 1px rgba(60, 64, 67, 0.15);\n",
              "      fill: #174EA6;\n",
              "    }\n",
              "\n",
              "    [theme=dark] .colab-df-convert {\n",
              "      background-color: #3B4455;\n",
              "      fill: #D2E3FC;\n",
              "    }\n",
              "\n",
              "    [theme=dark] .colab-df-convert:hover {\n",
              "      background-color: #434B5C;\n",
              "      box-shadow: 0px 1px 3px 1px rgba(0, 0, 0, 0.15);\n",
              "      filter: drop-shadow(0px 1px 2px rgba(0, 0, 0, 0.3));\n",
              "      fill: #FFFFFF;\n",
              "    }\n",
              "  </style>\n",
              "\n",
              "      <script>\n",
              "        const buttonEl =\n",
              "          document.querySelector('#df-229424c6-da3c-4ede-9062-aeff4a9eec13 button.colab-df-convert');\n",
              "        buttonEl.style.display =\n",
              "          google.colab.kernel.accessAllowed ? 'block' : 'none';\n",
              "\n",
              "        async function convertToInteractive(key) {\n",
              "          const element = document.querySelector('#df-229424c6-da3c-4ede-9062-aeff4a9eec13');\n",
              "          const dataTable =\n",
              "            await google.colab.kernel.invokeFunction('convertToInteractive',\n",
              "                                                     [key], {});\n",
              "          if (!dataTable) return;\n",
              "\n",
              "          const docLinkHtml = 'Like what you see? Visit the ' +\n",
              "            '<a target=\"_blank\" href=https://colab.research.google.com/notebooks/data_table.ipynb>data table notebook</a>'\n",
              "            + ' to learn more about interactive tables.';\n",
              "          element.innerHTML = '';\n",
              "          dataTable['output_type'] = 'display_data';\n",
              "          await google.colab.output.renderOutput(dataTable, element);\n",
              "          const docLink = document.createElement('div');\n",
              "          docLink.innerHTML = docLinkHtml;\n",
              "          element.appendChild(docLink);\n",
              "        }\n",
              "      </script>\n",
              "    </div>\n",
              "  </div>\n",
              "  "
            ]
          },
          "metadata": {},
          "execution_count": 22
        }
      ]
    },
    {
      "cell_type": "code",
      "source": [
        "df.to_csv('/content/drive/MyDrive/TFM/Data/df.csv', index=False)"
      ],
      "metadata": {
        "id": "BL4t4BFPZ25o"
      },
      "execution_count": null,
      "outputs": []
    },
    {
      "cell_type": "code",
      "source": [],
      "metadata": {
        "id": "Mxcw7zdbOH2Q"
      },
      "execution_count": null,
      "outputs": []
    }
  ]
}